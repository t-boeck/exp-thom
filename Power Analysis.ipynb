{
 "cells": [
  {
   "cell_type": "markdown",
   "metadata": {},
   "source": [
    "# Power Analysis with Clustered Standard Errors and Pre-Experiment Data\n",
    "\n",
    "This script guides you through an advanced power analysis with clustered standard errors[1] and pre-experiment data[2].\n",
    "\n",
    "Experimental power is overstated when it fails to account for clustered data which violates the assumption of independence within data. This method adjusts standard errors to account for clusters (in this case by User ID).\n",
    "\n",
    "Pre-experiment data on the other hand can be exploited to improve experimental power be reducing variance in the dependent variable.\n",
    "\n",
    "1. http://cameron.econ.ucdavis.edu/research/Cameron_Miller_JHR_2015_February.pdf\n",
    "\n",
    "2. https://exp-platform.com/Documents/2013-02-CUPED-ImprovingSensitivityOfControlledExperiments.pdf"
   ]
  },
  {
   "cell_type": "code",
   "execution_count": 1,
   "metadata": {},
   "outputs": [],
   "source": [
    "import math\n",
    "from scipy import stats\n",
    "import numpy as np\n",
    "import pandas as pd\n",
    "import datetime as dt\n",
    "import statsmodels.api as sm\n",
    "import statsmodels.formula.api as smf\n",
    "import matplotlib.pyplot as plt\n",
    "import seaborn as sns"
   ]
  },
  {
   "cell_type": "markdown",
   "metadata": {},
   "source": [
    "### Parameters\n"
   ]
  },
  {
   "cell_type": "code",
   "execution_count": 38,
   "metadata": {},
   "outputs": [],
   "source": [
    "mde = 0.10 # minimum detectable effect size (proportion)\n",
    "power = 0.8\n",
    "alpha = 0.05 # significance threshold\n",
    "\n",
    "cluster = 'user_id'\n",
    "dv = 'clicked' #dependent variable\n",
    "cat_features = ['platform'] #enter categorical features here (to make dummies)"
   ]
  },
  {
   "cell_type": "markdown",
   "metadata": {},
   "source": [
    "### Load Data"
   ]
  },
  {
   "cell_type": "code",
   "execution_count": 46,
   "metadata": {
    "scrolled": true
   },
   "outputs": [
    {
     "data": {
      "text/html": [
       "<div>\n",
       "<style scoped>\n",
       "    .dataframe tbody tr th:only-of-type {\n",
       "        vertical-align: middle;\n",
       "    }\n",
       "\n",
       "    .dataframe tbody tr th {\n",
       "        vertical-align: top;\n",
       "    }\n",
       "\n",
       "    .dataframe thead th {\n",
       "        text-align: right;\n",
       "    }\n",
       "</style>\n",
       "<table border=\"1\" class=\"dataframe\">\n",
       "  <thead>\n",
       "    <tr style=\"text-align: right;\">\n",
       "      <th></th>\n",
       "      <th>clicked</th>\n",
       "      <th>platform</th>\n",
       "      <th>user_rating</th>\n",
       "      <th>user_id</th>\n",
       "    </tr>\n",
       "  </thead>\n",
       "  <tbody>\n",
       "    <tr>\n",
       "      <th>0</th>\n",
       "      <td>1</td>\n",
       "      <td>iOS</td>\n",
       "      <td>5</td>\n",
       "      <td>1001</td>\n",
       "    </tr>\n",
       "    <tr>\n",
       "      <th>1</th>\n",
       "      <td>0</td>\n",
       "      <td>iOS</td>\n",
       "      <td>3</td>\n",
       "      <td>1002</td>\n",
       "    </tr>\n",
       "    <tr>\n",
       "      <th>2</th>\n",
       "      <td>1</td>\n",
       "      <td>iOS</td>\n",
       "      <td>3</td>\n",
       "      <td>1003</td>\n",
       "    </tr>\n",
       "    <tr>\n",
       "      <th>3</th>\n",
       "      <td>0</td>\n",
       "      <td>iOS</td>\n",
       "      <td>1</td>\n",
       "      <td>1004</td>\n",
       "    </tr>\n",
       "    <tr>\n",
       "      <th>4</th>\n",
       "      <td>0</td>\n",
       "      <td>iOS</td>\n",
       "      <td>1</td>\n",
       "      <td>1005</td>\n",
       "    </tr>\n",
       "  </tbody>\n",
       "</table>\n",
       "</div>"
      ],
      "text/plain": [
       "   clicked platform  user_rating  user_id\n",
       "0        1      iOS            5     1001\n",
       "1        0      iOS            3     1002\n",
       "2        1      iOS            3     1003\n",
       "3        0      iOS            1     1004\n",
       "4        0      iOS            1     1005"
      ]
     },
     "execution_count": 46,
     "metadata": {},
     "output_type": "execute_result"
    }
   ],
   "source": [
    "url = 'https://raw.githubusercontent.com/t-boeck/exp-thom/main/data/historical_clickthrough_data.csv'\n",
    "df = pd.read_csv(url)\n",
    "df.head()"
   ]
  },
  {
   "cell_type": "code",
   "execution_count": 47,
   "metadata": {},
   "outputs": [],
   "source": [
    "df = sm.add_constant(df)\n",
    "df = pd.get_dummies(df, columns=cat_features, drop_first=True)\n",
    "X = df.drop(columns=[dv, cluster])\n",
    "\n",
    "mod = sm.OLS(df[dv], X).fit()\n",
    "\n",
    "df['resid'] = mod.resid"
   ]
  },
  {
   "cell_type": "code",
   "execution_count": 43,
   "metadata": {},
   "outputs": [
    {
     "data": {
      "text/html": [
       "<table class=\"simpletable\">\n",
       "<caption>OLS Regression Results</caption>\n",
       "<tr>\n",
       "  <th>Dep. Variable:</th>         <td>clicked</td>     <th>  R-squared:         </th> <td>   0.001</td>\n",
       "</tr>\n",
       "<tr>\n",
       "  <th>Model:</th>                   <td>OLS</td>       <th>  Adj. R-squared:    </th> <td>  -0.003</td>\n",
       "</tr>\n",
       "<tr>\n",
       "  <th>Method:</th>             <td>Least Squares</td>  <th>  F-statistic:       </th> <td>  0.1940</td>\n",
       "</tr>\n",
       "<tr>\n",
       "  <th>Date:</th>             <td>Fri, 06 May 2022</td> <th>  Prob (F-statistic):</th>  <td> 0.824</td> \n",
       "</tr>\n",
       "<tr>\n",
       "  <th>Time:</th>                 <td>18:09:40</td>     <th>  Log-Likelihood:    </th> <td> -360.19</td>\n",
       "</tr>\n",
       "<tr>\n",
       "  <th>No. Observations:</th>      <td>   500</td>      <th>  AIC:               </th> <td>   726.4</td>\n",
       "</tr>\n",
       "<tr>\n",
       "  <th>Df Residuals:</th>          <td>   497</td>      <th>  BIC:               </th> <td>   739.0</td>\n",
       "</tr>\n",
       "<tr>\n",
       "  <th>Df Model:</th>              <td>     2</td>      <th>                     </th>     <td> </td>   \n",
       "</tr>\n",
       "<tr>\n",
       "  <th>Covariance Type:</th>      <td>nonrobust</td>    <th>                     </th>     <td> </td>   \n",
       "</tr>\n",
       "</table>\n",
       "<table class=\"simpletable\">\n",
       "<tr>\n",
       "        <td></td>          <th>coef</th>     <th>std err</th>      <th>t</th>      <th>P>|t|</th>  <th>[0.025</th>    <th>0.975]</th>  \n",
       "</tr>\n",
       "<tr>\n",
       "  <th>const</th>        <td>    0.5460</td> <td>    0.051</td> <td>   10.636</td> <td> 0.000</td> <td>    0.445</td> <td>    0.647</td>\n",
       "</tr>\n",
       "<tr>\n",
       "  <th>user_rating</th>  <td>   -0.0047</td> <td>    0.016</td> <td>   -0.294</td> <td> 0.769</td> <td>   -0.036</td> <td>    0.027</td>\n",
       "</tr>\n",
       "<tr>\n",
       "  <th>platform_iOS</th> <td>    0.0255</td> <td>    0.046</td> <td>    0.559</td> <td> 0.576</td> <td>   -0.064</td> <td>    0.115</td>\n",
       "</tr>\n",
       "</table>\n",
       "<table class=\"simpletable\">\n",
       "<tr>\n",
       "  <th>Omnibus:</th>       <td>2133.148</td> <th>  Durbin-Watson:     </th> <td>   1.922</td>\n",
       "</tr>\n",
       "<tr>\n",
       "  <th>Prob(Omnibus):</th>  <td> 0.000</td>  <th>  Jarque-Bera (JB):  </th> <td>  83.110</td>\n",
       "</tr>\n",
       "<tr>\n",
       "  <th>Skew:</th>           <td>-0.201</td>  <th>  Prob(JB):          </th> <td>8.97e-19</td>\n",
       "</tr>\n",
       "<tr>\n",
       "  <th>Kurtosis:</th>       <td> 1.043</td>  <th>  Cond. No.          </th> <td>    8.04</td>\n",
       "</tr>\n",
       "</table><br/><br/>Notes:<br/>[1] Standard Errors assume that the covariance matrix of the errors is correctly specified."
      ],
      "text/plain": [
       "<class 'statsmodels.iolib.summary.Summary'>\n",
       "\"\"\"\n",
       "                            OLS Regression Results                            \n",
       "==============================================================================\n",
       "Dep. Variable:                clicked   R-squared:                       0.001\n",
       "Model:                            OLS   Adj. R-squared:                 -0.003\n",
       "Method:                 Least Squares   F-statistic:                    0.1940\n",
       "Date:                Fri, 06 May 2022   Prob (F-statistic):              0.824\n",
       "Time:                        18:09:40   Log-Likelihood:                -360.19\n",
       "No. Observations:                 500   AIC:                             726.4\n",
       "Df Residuals:                     497   BIC:                             739.0\n",
       "Df Model:                           2                                         \n",
       "Covariance Type:            nonrobust                                         \n",
       "================================================================================\n",
       "                   coef    std err          t      P>|t|      [0.025      0.975]\n",
       "--------------------------------------------------------------------------------\n",
       "const            0.5460      0.051     10.636      0.000       0.445       0.647\n",
       "user_rating     -0.0047      0.016     -0.294      0.769      -0.036       0.027\n",
       "platform_iOS     0.0255      0.046      0.559      0.576      -0.064       0.115\n",
       "==============================================================================\n",
       "Omnibus:                     2133.148   Durbin-Watson:                   1.922\n",
       "Prob(Omnibus):                  0.000   Jarque-Bera (JB):               83.110\n",
       "Skew:                          -0.201   Prob(JB):                     8.97e-19\n",
       "Kurtosis:                       1.043   Cond. No.                         8.04\n",
       "==============================================================================\n",
       "\n",
       "Notes:\n",
       "[1] Standard Errors assume that the covariance matrix of the errors is correctly specified.\n",
       "\"\"\""
      ]
     },
     "execution_count": 43,
     "metadata": {},
     "output_type": "execute_result"
    }
   ],
   "source": [
    "mod.summary()"
   ]
  },
  {
   "cell_type": "code",
   "execution_count": 48,
   "metadata": {},
   "outputs": [
    {
     "name": "stdout",
     "output_type": "stream",
     "text": [
      "Desired relative MDE is 0.1.\n",
      "Desired absolute MDE is 0.055.\n",
      "Required sample size in each group: 1,273.\n"
     ]
    }
   ],
   "source": [
    "clustered_mod = sm.OLS(df['resid'], df['const']).fit().get_robustcov_results(\n",
    "                                        'cluster', groups=df[cluster],\n",
    "                                        use_correction=True, df_correction=True)\n",
    "\n",
    "#calculate standard deviation: standard error * square root of n\n",
    "sd = clustered_mod.bse[0] * np.sqrt(df.shape[0])\n",
    "\n",
    "#compute absolute effect from relative effect\n",
    "absolute_effect_size = abs(df[dv].mean()\n",
    "                           - df[dv].mean()*(1+mde))\n",
    "\n",
    "#normalize effect size relative to standard deviation\n",
    "effect_size = absolute_effect_size / sd\n",
    "\n",
    "recommended_n = int(sm.stats.tt_ind_solve_power(effect_size=effect_size,\n",
    "                                alpha=alpha, power=power, alternative='larger'))\n",
    "\n",
    "print(\"Desired relative MDE is {}.\".format(mde))\n",
    "print(\"Desired absolute MDE is {}.\".format(round(absolute_effect_size, 4)))\n",
    "print(\"Required sample size in each group: {:,}.\".format(recommended_n))"
   ]
  },
  {
   "cell_type": "code",
   "execution_count": null,
   "metadata": {},
   "outputs": [],
   "source": []
  }
 ],
 "metadata": {
  "kernelspec": {
   "display_name": "Python 3",
   "language": "python",
   "name": "python3"
  },
  "language_info": {
   "codemirror_mode": {
    "name": "ipython",
    "version": 3
   },
   "file_extension": ".py",
   "mimetype": "text/x-python",
   "name": "python",
   "nbconvert_exporter": "python",
   "pygments_lexer": "ipython3",
   "version": "3.8.5"
  }
 },
 "nbformat": 4,
 "nbformat_minor": 4
}
